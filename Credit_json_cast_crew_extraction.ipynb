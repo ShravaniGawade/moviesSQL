{
 "cells": [
  {
   "cell_type": "markdown",
   "id": "edd2e648-fe59-482d-9e10-5cc9a922d67d",
   "metadata": {},
   "source": [
    "CAST"
   ]
  },
  {
   "cell_type": "code",
   "execution_count": 1,
   "id": "0ed58081-d6d2-4fc7-94e5-5f50426718d0",
   "metadata": {},
   "outputs": [
    {
     "data": {
      "text/html": [
       "<div>\n",
       "<style scoped>\n",
       "    .dataframe tbody tr th:only-of-type {\n",
       "        vertical-align: middle;\n",
       "    }\n",
       "\n",
       "    .dataframe tbody tr th {\n",
       "        vertical-align: top;\n",
       "    }\n",
       "\n",
       "    .dataframe thead th {\n",
       "        text-align: right;\n",
       "    }\n",
       "</style>\n",
       "<table border=\"1\" class=\"dataframe\">\n",
       "  <thead>\n",
       "    <tr style=\"text-align: right;\">\n",
       "      <th></th>\n",
       "      <th>id</th>\n",
       "      <th>cast</th>\n",
       "    </tr>\n",
       "  </thead>\n",
       "  <tbody>\n",
       "    <tr>\n",
       "      <th>0</th>\n",
       "      <td>862</td>\n",
       "      <td>[{'cast_id': 14, 'character': 'Woody (voice)',...</td>\n",
       "    </tr>\n",
       "    <tr>\n",
       "      <th>1</th>\n",
       "      <td>8844</td>\n",
       "      <td>[{'cast_id': 1, 'character': 'Alan Parrish', '...</td>\n",
       "    </tr>\n",
       "    <tr>\n",
       "      <th>2</th>\n",
       "      <td>15602</td>\n",
       "      <td>[{'cast_id': 2, 'character': 'Max Goldman', 'c...</td>\n",
       "    </tr>\n",
       "    <tr>\n",
       "      <th>3</th>\n",
       "      <td>31357</td>\n",
       "      <td>[{'cast_id': 1, 'character': \"Savannah 'Vannah...</td>\n",
       "    </tr>\n",
       "    <tr>\n",
       "      <th>4</th>\n",
       "      <td>11862</td>\n",
       "      <td>[{'cast_id': 1, 'character': 'George Banks', '...</td>\n",
       "    </tr>\n",
       "  </tbody>\n",
       "</table>\n",
       "</div>"
      ],
      "text/plain": [
       "      id                                               cast\n",
       "0    862  [{'cast_id': 14, 'character': 'Woody (voice)',...\n",
       "1   8844  [{'cast_id': 1, 'character': 'Alan Parrish', '...\n",
       "2  15602  [{'cast_id': 2, 'character': 'Max Goldman', 'c...\n",
       "3  31357  [{'cast_id': 1, 'character': \"Savannah 'Vannah...\n",
       "4  11862  [{'cast_id': 1, 'character': 'George Banks', '..."
      ]
     },
     "execution_count": 1,
     "metadata": {},
     "output_type": "execute_result"
    }
   ],
   "source": [
    "import pandas as pd\n",
    "\n",
    "# Load CSV file into a DataFrame\n",
    "df = pd.read_csv(r\"C:\\Users\\ADMIN\\Desktop\\SJSU\\SEM1\\DB Analytics\\Moviedataset\\Cast1.csv\")\n",
    "df.head()"
   ]
  },
  {
   "cell_type": "code",
   "execution_count": 10,
   "id": "d9069226-fe71-4fc8-8972-a177303b9af8",
   "metadata": {},
   "outputs": [
    {
     "data": {
      "text/plain": [
       "0    [{'cast_id': 14, 'character': 'Woody (voice)',...\n",
       "1    [{'cast_id': 1, 'character': 'Alan Parrish', '...\n",
       "2    [{'cast_id': 2, 'character': 'Max Goldman', 'c...\n",
       "3    [{'cast_id': 1, 'character': \"Savannah 'Vannah...\n",
       "4    [{'cast_id': 1, 'character': 'George Banks', '...\n",
       "Name: cast, dtype: object"
      ]
     },
     "execution_count": 10,
     "metadata": {},
     "output_type": "execute_result"
    }
   ],
   "source": [
    "df['cast'].head()\n"
   ]
  },
  {
   "cell_type": "code",
   "execution_count": 12,
   "id": "a568b4ea-7805-4e52-8b5a-fb06291cd2fa",
   "metadata": {},
   "outputs": [],
   "source": [
    "\n",
    "# Function to extract values from JSON formatted column for cast column\n",
    "def extract_values_cast(json_str):\n",
    "    try:\n",
    "        data_list = ast.literal_eval(json_str)\n",
    "        #df['cast'] = df['cast'].apply(ast.literal_eval)\n",
    "        cast_id_list = [item['cast_id'] for item in data_list]\n",
    "        character_list = [item['character'] for item in data_list]\n",
    "        credit_id_list = [item['credit_id'] for item in data_list]\n",
    "        gender_list = [item['gender'] for item in data_list]\n",
    "        cast_cast_id_list = [item['id'] for item in data_list]\n",
    "        name_list = [item['name'] for item in data_list]\n",
    "        order_list = [item['order'] for item in data_list]\n",
    "        profile_path_list = [item['profile_path'] for item in data_list]\n",
    "        return ','.join(map(str, cast_id_list)), ','.join(map(str, character_list)), ','.join(map(str, credit_id_list)), ','.join(map(str, gender_list)), ','.join(map(str, cast_cast_id_list)), ','.join(map(str, name_list)), ','.join(map(str, order_list)), ','.join(map(str, profile_path_list))\n",
    "\n",
    "    except:\n",
    "        return None, None,None,None,None,None,None,None\n",
    "\n",
    "# Apply the function to each row of the DataFrame\n",
    "df[['cast_id_values', 'cast_char_values', 'cast_credit_id_values', 'cast_gender', 'cast_cast_id', 'cast_name_values', 'cast_order', 'cast_profile_path']]= df['cast'].apply(lambda x: pd.Series(extract_values_cast(x))) #if x else pd.Series([None] * 8))\n",
    "\n",
    "# Drop the original JSON formatted column\n",
    "df.drop(columns=['cast'], inplace=True)\n",
    "\n",
    "\n",
    "# Write the DataFrame to a new CSV file\n",
    "df.to_csv(r'C:\\Users\\ADMIN\\Desktop\\SJSU\\SEM1\\DB Analytics\\Moviedataset\\cast2.csv', index=False)\n"
   ]
  },
  {
   "cell_type": "code",
   "execution_count": 7,
   "id": "dfe23af6-566d-4ebf-b053-7766f1c1ff2a",
   "metadata": {},
   "outputs": [],
   "source": [
    "import pandas as pd\n",
    "import numpy as np\n",
    "\n",
    "# Read the CSV file\n",
    "df = pd.read_csv(r'C:\\Users\\ADMIN\\Desktop\\SJSU\\SEM1\\DB Analytics\\Moviedataset\\cast2.csv')\n",
    "\n",
    "# Function to split values in a cell and create new rows\n",
    "def split_values(row):\n",
    "    id_val = row['id']\n",
    "    cast_id_values = str(row['cast_id_values']).split(',') if not pd.isnull(row['cast_id_values']) else []\n",
    "    cast_char_values = str(row['cast_char_values']).split(',') if not pd.isnull(row['cast_char_values']) else []\n",
    "    cast_credit_id_values = str(row['cast_credit_id_values']).split(',') if not pd.isnull(row['cast_credit_id_values']) else []\n",
    "    cast_gender = str(row['cast_gender']).split(',') if not pd.isnull(row['cast_gender']) else []\n",
    "    cast_cast_id = str(row['cast_cast_id']).split(',') if not pd.isnull(row['cast_cast_id']) else []\n",
    "    cast_name_values = str(row['cast_name_values']).split(',') if not pd.isnull(row['cast_name_values']) else []\n",
    "    cast_order = str(row['cast_order']).split(',') if not pd.isnull(row['cast_order']) else []\n",
    "    cast_profile_path = str(row['cast_profile_path']).split(',') if not pd.isnull(row['cast_profile_path']) else []\n",
    "    rows = []\n",
    "    for cast_id_values, cast_char_values,cast_credit_id_values,cast_gender,cast_cast_id,cast_name_values,cast_order,cast_profile_path in zip(cast_id_values, cast_char_values,cast_credit_id_values,cast_gender,cast_cast_id,cast_name_values,cast_order,cast_profile_path):\n",
    "        rows.append([id_val, cast_id_values, cast_char_values,cast_credit_id_values,cast_gender,cast_cast_id,cast_name_values,cast_order,cast_profile_path])\n",
    "    return rows\n",
    "\n",
    "# Apply the function to each row and flatten the resulting list of lists\n",
    "new_rows = [row for sublist in df.apply(split_values, axis=1) for row in sublist]\n",
    "\n",
    "# Create a new DataFrame from the flattened list\n",
    "new_df = pd.DataFrame(new_rows, columns=['id', 'cast_id_values','cast_char_values','cast_credit_id_values','cast_gender','cast_cast_id','cast_name_values','cast_order','cast_profile_path'])\n",
    "\n",
    "# Export the DataFrame to a new CSV file\n",
    "new_df.to_csv(r'C:\\Users\\ADMIN\\Desktop\\SJSU\\SEM1\\DB Analytics\\Moviedataset\\cast5.csv', index=False)\n"
   ]
  },
  {
   "cell_type": "markdown",
   "id": "c32f90c7-05dc-4e77-a83c-f666ba29c0ac",
   "metadata": {},
   "source": [
    "CREW"
   ]
  },
  {
   "cell_type": "code",
   "execution_count": 18,
   "id": "e56bb177-8945-4985-b8ad-8ada07a45653",
   "metadata": {},
   "outputs": [
    {
     "data": {
      "text/html": [
       "<div>\n",
       "<style scoped>\n",
       "    .dataframe tbody tr th:only-of-type {\n",
       "        vertical-align: middle;\n",
       "    }\n",
       "\n",
       "    .dataframe tbody tr th {\n",
       "        vertical-align: top;\n",
       "    }\n",
       "\n",
       "    .dataframe thead th {\n",
       "        text-align: right;\n",
       "    }\n",
       "</style>\n",
       "<table border=\"1\" class=\"dataframe\">\n",
       "  <thead>\n",
       "    <tr style=\"text-align: right;\">\n",
       "      <th></th>\n",
       "      <th>id</th>\n",
       "      <th>crew</th>\n",
       "    </tr>\n",
       "  </thead>\n",
       "  <tbody>\n",
       "    <tr>\n",
       "      <th>0</th>\n",
       "      <td>862</td>\n",
       "      <td>[{'credit_id': '52fe4284c3a36847f8024f49', 'de...</td>\n",
       "    </tr>\n",
       "    <tr>\n",
       "      <th>1</th>\n",
       "      <td>8844</td>\n",
       "      <td>[{'credit_id': '52fe44bfc3a36847f80a7cd1', 'de...</td>\n",
       "    </tr>\n",
       "    <tr>\n",
       "      <th>2</th>\n",
       "      <td>15602</td>\n",
       "      <td>[{'credit_id': '52fe466a9251416c75077a89', 'de...</td>\n",
       "    </tr>\n",
       "    <tr>\n",
       "      <th>3</th>\n",
       "      <td>31357</td>\n",
       "      <td>[{'credit_id': '52fe44779251416c91011acb', 'de...</td>\n",
       "    </tr>\n",
       "    <tr>\n",
       "      <th>4</th>\n",
       "      <td>11862</td>\n",
       "      <td>[{'credit_id': '52fe44959251416c75039ed7', 'de...</td>\n",
       "    </tr>\n",
       "  </tbody>\n",
       "</table>\n",
       "</div>"
      ],
      "text/plain": [
       "      id                                               crew\n",
       "0    862  [{'credit_id': '52fe4284c3a36847f8024f49', 'de...\n",
       "1   8844  [{'credit_id': '52fe44bfc3a36847f80a7cd1', 'de...\n",
       "2  15602  [{'credit_id': '52fe466a9251416c75077a89', 'de...\n",
       "3  31357  [{'credit_id': '52fe44779251416c91011acb', 'de...\n",
       "4  11862  [{'credit_id': '52fe44959251416c75039ed7', 'de..."
      ]
     },
     "execution_count": 18,
     "metadata": {},
     "output_type": "execute_result"
    }
   ],
   "source": [
    "import pandas as pd\n",
    "\n",
    "# Load CSV file into a DataFrame\n",
    "df = pd.read_csv(r\"C:\\Users\\ADMIN\\Desktop\\SJSU\\SEM1\\DB Analytics\\Moviedataset\\crew.csv\")\n",
    "df.head()"
   ]
  },
  {
   "cell_type": "code",
   "execution_count": 19,
   "id": "20e532cc-3a08-42d6-997e-840963870647",
   "metadata": {},
   "outputs": [
    {
     "data": {
      "text/plain": [
       "0    [{'credit_id': '52fe4284c3a36847f8024f49', 'de...\n",
       "1    [{'credit_id': '52fe44bfc3a36847f80a7cd1', 'de...\n",
       "2    [{'credit_id': '52fe466a9251416c75077a89', 'de...\n",
       "3    [{'credit_id': '52fe44779251416c91011acb', 'de...\n",
       "4    [{'credit_id': '52fe44959251416c75039ed7', 'de...\n",
       "Name: crew, dtype: object"
      ]
     },
     "execution_count": 19,
     "metadata": {},
     "output_type": "execute_result"
    }
   ],
   "source": [
    "df['crew'].head()"
   ]
  },
  {
   "cell_type": "code",
   "execution_count": 20,
   "id": "8558f762-6184-4479-a579-d936369b294f",
   "metadata": {},
   "outputs": [],
   "source": [
    "\n",
    "# Function to extract values from JSON formatted column for crew column\n",
    "def extract_values_crew(json_str):\n",
    "    try:\n",
    "        data_list = ast.literal_eval(json_str)\n",
    "        #df['crew'] = df['crew'].apply(ast.literal_eval)\n",
    "        crew_credit_id_list = [item['credit_id'] for item in data_list]\n",
    "        #print(crew_credit_id_list)\n",
    "        department_list = [item['department'] for item in data_list]\n",
    "        gender_list = [item['gender'] for item in data_list]\n",
    "        crew_cast_id_list = [item['id'] for item in data_list]\n",
    "        job_list = [item['job'] for item in data_list]\n",
    "        name_list = [item['name'] for item in data_list]\n",
    "        profile_path_list = [item['profile_path'] for item in data_list]\n",
    "        return ','.join(map(str, crew_credit_id_list)), ','.join(map(str, department_list)), ','.join(map(str, gender_list)), ','.join(map(str, crew_cast_id_list)), ','.join(map(str, job_list)), ','.join(map(str, name_list)), ','.join(map(str, profile_path_list))\n",
    "        \n",
    "\n",
    "    except:\n",
    "        return None,None,None,None,None,None,None\n",
    "\n",
    "# Apply the function to each row of the DataFrame\n",
    "df[['crew_credit_id_list', 'department_list', 'gender_list', 'crew_cast_id_list', 'job_list', 'name_list', 'profile_path_list']]= df['crew'].apply(lambda x: pd.Series(extract_values_crew(x))) #if x else pd.Series([None] * 8))\n",
    "\n",
    "# Drop the original JSON formatted column\n",
    "df.drop(columns=['crew'], inplace=True)\n",
    "\n",
    "\n",
    "# Write the DataFrame to a new CSV file\n",
    "df.to_csv(r'C:C:\\Users\\ADMIN\\Desktop\\SJSU\\SEM1\\DB Analytics\\Moviedataset\\crew1.csv', index=False)"
   ]
  },
  {
   "cell_type": "code",
   "execution_count": 21,
   "id": "a8cb4cc8-900c-4581-aa99-31d9523dcfbb",
   "metadata": {},
   "outputs": [],
   "source": [
    "import pandas as pd\n",
    "import numpy as np\n",
    "\n",
    "# Read the CSV file\n",
    "df = pd.read_csv(r'C:\\Users\\ADMIN\\Desktop\\SJSU\\SEM1\\DB Analytics\\Moviedataset\\crew1.csv')\n",
    "\n",
    "# Function to split values in a cell and create new rows\n",
    "def split_values(row):\n",
    "    id_val = row['id']\n",
    "    crew_credit_id_list = str(row['crew_credit_id_list']).split(',') if not pd.isnull(row['crew_credit_id_list']) else []\n",
    "    department_list = str(row['department_list']).split(',') if not pd.isnull(row['department_list']) else []\n",
    "    gender_list = str(row['gender_list']).split(',') if not pd.isnull(row['gender_list']) else []\n",
    "    crew_cast_id_list = str(row['crew_cast_id_list']).split(',') if not pd.isnull(row['crew_cast_id_list']) else []\n",
    "    job_list = str(row['job_list']).split(',') if not pd.isnull(row['job_list']) else []\n",
    "    name_list = str(row['name_list']).split(',') if not pd.isnull(row['name_list']) else []\n",
    "    profile_path_list = str(row['profile_path_list']).split(',') if not pd.isnull(row['profile_path_list']) else []\n",
    "    rows = []\n",
    "    for crew_credit_id_list, department_list,gender_list,crew_cast_id_list,job_list,name_list,profile_path_list in zip(crew_credit_id_list, department_list,gender_list,crew_cast_id_list,job_list,name_list,profile_path_list):\n",
    "        rows.append([id_val, crew_credit_id_list, department_list,gender_list,crew_cast_id_list,job_list,name_list,profile_path_list])\n",
    "    return rows\n",
    "\n",
    "# Apply the function to each row and flatten the resulting list of lists\n",
    "new_rows = [row for sublist in df.apply(split_values, axis=1) for row in sublist]\n",
    "\n",
    "# Create a new DataFrame from the flattened list\n",
    "new_df = pd.DataFrame(new_rows, columns=['id', 'crew_credit_id_list','department_list','gender_list','crew_cast_id_list','job_list','name_list','profile_path_list '])\n",
    "\n",
    "# Export the DataFrame to a new CSV file\n",
    "new_df.to_csv(r'C:\\Users\\ADMIN\\Desktop\\SJSU\\SEM1\\DB Analytics\\Moviedataset\\crew4.csv', index=False)\n"
   ]
  },
  {
   "cell_type": "code",
   "execution_count": null,
   "id": "061bc169-3e6d-45df-972c-c08583539fca",
   "metadata": {},
   "outputs": [],
   "source": []
  }
 ],
 "metadata": {
  "kernelspec": {
   "display_name": "Python 3 (ipykernel)",
   "language": "python",
   "name": "python3"
  },
  "language_info": {
   "codemirror_mode": {
    "name": "ipython",
    "version": 3
   },
   "file_extension": ".py",
   "mimetype": "text/x-python",
   "name": "python",
   "nbconvert_exporter": "python",
   "pygments_lexer": "ipython3",
   "version": "3.11.5"
  }
 },
 "nbformat": 4,
 "nbformat_minor": 5
}
