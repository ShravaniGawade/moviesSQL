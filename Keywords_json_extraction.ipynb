{
 "cells": [
  {
   "cell_type": "code",
   "execution_count": 1,
   "id": "2166e13b-211c-4d5a-b558-264997615371",
   "metadata": {},
   "outputs": [
    {
     "data": {
      "text/html": [
       "<div>\n",
       "<style scoped>\n",
       "    .dataframe tbody tr th:only-of-type {\n",
       "        vertical-align: middle;\n",
       "    }\n",
       "\n",
       "    .dataframe tbody tr th {\n",
       "        vertical-align: top;\n",
       "    }\n",
       "\n",
       "    .dataframe thead th {\n",
       "        text-align: right;\n",
       "    }\n",
       "</style>\n",
       "<table border=\"1\" class=\"dataframe\">\n",
       "  <thead>\n",
       "    <tr style=\"text-align: right;\">\n",
       "      <th></th>\n",
       "      <th>id</th>\n",
       "      <th>keywords</th>\n",
       "    </tr>\n",
       "  </thead>\n",
       "  <tbody>\n",
       "    <tr>\n",
       "      <th>0</th>\n",
       "      <td>862</td>\n",
       "      <td>[{'id': 931, 'name': 'jealousy'}, {'id': 4290,...</td>\n",
       "    </tr>\n",
       "    <tr>\n",
       "      <th>1</th>\n",
       "      <td>8844</td>\n",
       "      <td>[{'id': 10090, 'name': 'board game'}, {'id': 1...</td>\n",
       "    </tr>\n",
       "    <tr>\n",
       "      <th>2</th>\n",
       "      <td>15602</td>\n",
       "      <td>[{'id': 1495, 'name': 'fishing'}, {'id': 12392...</td>\n",
       "    </tr>\n",
       "    <tr>\n",
       "      <th>3</th>\n",
       "      <td>31357</td>\n",
       "      <td>[{'id': 818, 'name': 'based on novel'}, {'id':...</td>\n",
       "    </tr>\n",
       "    <tr>\n",
       "      <th>4</th>\n",
       "      <td>11862</td>\n",
       "      <td>[{'id': 1009, 'name': 'baby'}, {'id': 1599, 'n...</td>\n",
       "    </tr>\n",
       "  </tbody>\n",
       "</table>\n",
       "</div>"
      ],
      "text/plain": [
       "      id                                           keywords\n",
       "0    862  [{'id': 931, 'name': 'jealousy'}, {'id': 4290,...\n",
       "1   8844  [{'id': 10090, 'name': 'board game'}, {'id': 1...\n",
       "2  15602  [{'id': 1495, 'name': 'fishing'}, {'id': 12392...\n",
       "3  31357  [{'id': 818, 'name': 'based on novel'}, {'id':...\n",
       "4  11862  [{'id': 1009, 'name': 'baby'}, {'id': 1599, 'n..."
      ]
     },
     "execution_count": 1,
     "metadata": {},
     "output_type": "execute_result"
    }
   ],
   "source": [
    "import pandas as pd\n",
    "\n",
    "# Load CSV file into a DataFrame\n",
    "df = pd.read_csv(r\"C:\\Users\\ADMIN\\Desktop\\SJSU\\SEM1\\DB Analytics\\Moviedataset\\keywords.csv\")\n",
    "df.head()"
   ]
  },
  {
   "cell_type": "code",
   "execution_count": 2,
   "id": "e1762549-8b12-4bfd-a12a-557cb959fa14",
   "metadata": {},
   "outputs": [
    {
     "data": {
      "text/plain": [
       "0    [{'id': 931, 'name': 'jealousy'}, {'id': 4290,...\n",
       "1    [{'id': 10090, 'name': 'board game'}, {'id': 1...\n",
       "2    [{'id': 1495, 'name': 'fishing'}, {'id': 12392...\n",
       "3    [{'id': 818, 'name': 'based on novel'}, {'id':...\n",
       "4    [{'id': 1009, 'name': 'baby'}, {'id': 1599, 'n...\n",
       "Name: keywords, dtype: object"
      ]
     },
     "execution_count": 2,
     "metadata": {},
     "output_type": "execute_result"
    }
   ],
   "source": [
    "df['keywords'].head()"
   ]
  },
  {
   "cell_type": "code",
   "execution_count": 3,
   "id": "e12fe116-ccb1-4037-9a4a-7527b57dd336",
   "metadata": {},
   "outputs": [],
   "source": [
    "import pandas as pd\n",
    "import ast\n",
    "\n",
    "\n",
    "# Function to extract values from JSON formatted column\n",
    "def extract_values(json_str):\n",
    "    try:\n",
    "        data_list = ast.literal_eval(json_str)\n",
    "        id_list = [item['id'] for item in data_list]\n",
    "        name_list = [item['name'] for item in data_list]\n",
    "        return ','.join(map(str, id_list)), ','.join(map(str, name_list))\n",
    "    except:\n",
    "        return None, None\n",
    "\n",
    "# Apply the function to each row of the DataFrame\n",
    "df[['id_values', 'name_values']] = df['keywords'].apply(lambda x: pd.Series(extract_values(x)))\n",
    "\n",
    "# Drop the original JSON formatted column\n",
    "df.drop(columns=['keywords'], inplace=True)\n",
    "\n",
    "# Write the DataFrame to a new CSV file\n",
    "df.to_csv(r'C:\\Users\\ADMIN\\SJSU\\SEM1\\DB Analytics\\Moviedataset\\keywords1.csv', index=False)\n"
   ]
  },
  {
   "cell_type": "code",
   "execution_count": 1,
   "id": "0f6f6db0-7967-418f-b692-e0b0702fe5b6",
   "metadata": {},
   "outputs": [],
   "source": [
    "import pandas as pd\n",
    "import numpy as np\n",
    "\n",
    "# Read the CSV file\n",
    "df = pd.read_csv(r'C:\\Users\\ADMIN\\Desktop\\SJSU\\SEM1\\DB Analytics\\Moviedataset\\keywords1.csv')\n",
    "\n",
    "# Function to split values in a cell and create new rows\n",
    "def split_values(row):\n",
    "    id_val = row['id']\n",
    "    id_values = str(row['id_values']).split(',') if not pd.isnull(row['id_values']) else []\n",
    "    name_values = str(row['name_values']).split(',') if not pd.isnull(row['name_values']) else []\n",
    "    rows = []\n",
    "    for id_value, name_value in zip(id_values, name_values):\n",
    "        rows.append([id_val, id_value, name_value])\n",
    "    return rows\n",
    "\n",
    "# Apply the function to each row and flatten the resulting list of lists\n",
    "new_rows = [row for sublist in df.apply(split_values, axis=1) for row in sublist]\n",
    "\n",
    "# Create a new DataFrame from the flattened list\n",
    "new_df = pd.DataFrame(new_rows, columns=['id', 'id_values', 'name_values'])\n",
    "\n",
    "# Export the DataFrame to a new CSV file\n",
    "new_df.to_csv(r'C:\\Users\\ADMIN\\Desktop\\SJSU\\SEM1\\DB Analytics\\Moviedataset\\keyword2.csv', index=False)\n"
   ]
  },
  {
   "cell_type": "code",
   "execution_count": null,
   "id": "22640908-1196-4343-9062-2ad6e8c0849d",
   "metadata": {},
   "outputs": [],
   "source": []
  }
 ],
 "metadata": {
  "kernelspec": {
   "display_name": "Python 3 (ipykernel)",
   "language": "python",
   "name": "python3"
  },
  "language_info": {
   "codemirror_mode": {
    "name": "ipython",
    "version": 3
   },
   "file_extension": ".py",
   "mimetype": "text/x-python",
   "name": "python",
   "nbconvert_exporter": "python",
   "pygments_lexer": "ipython3",
   "version": "3.11.5"
  }
 },
 "nbformat": 4,
 "nbformat_minor": 5
}
