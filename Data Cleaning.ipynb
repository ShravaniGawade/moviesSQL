{
 "cells": [
  {
   "cell_type": "markdown",
   "id": "f5aa3f2c-d66e-4c35-8af2-964f0e4de2e8",
   "metadata": {},
   "source": [
    "Changing Timestamp column values in ratings to DATETIME"
   ]
  },
  {
   "cell_type": "code",
   "execution_count": null,
   "id": "3b2a1f7c-08ce-4afb-992b-2b3362e2c3be",
   "metadata": {},
   "outputs": [],
   "source": [
    "import pandas as pd\n",
    "from datetime import datetime\n",
    "# Read CSV file into DataFrame\n",
    "df = pd.read_csv(r'C:\\Users\\ADMIN\\Desktop\\SJSU\\DB Analytics\\moviedataset\\ratings.csv')\n",
    "\n",
    "df['timestamp'] = pd.to_datetime(df['timestamp'], unit='s')\n",
    "\n",
    "# Format the datetime objects as strings with the desired format\n",
    "df['timestamp'] = df['timestamp'].dt.strftime('%Y-%m-%d %H:%M:%S')\n",
    "\n",
    "df.to_csv(r'C:\\Users\\sonia\\OneDrive\\Desktop\\SJSU\\DB Analytics\\moviedataset\\ratings1.csv', index=False)"
   ]
  },
  {
   "cell_type": "markdown",
   "id": "8026ac13-6113-412e-9126-5a3a40355d70",
   "metadata": {},
   "source": [
    "Deleting the record where tmdbId from links have no reference to id in movie metadata"
   ]
  },
  {
   "cell_type": "code",
   "execution_count": null,
   "id": "4613c3a9-e76a-4710-b042-420bcd9e04a3",
   "metadata": {},
   "outputs": [],
   "source": [
    "import pandas as pd\n",
    "\n",
    "# Load both CSV files into DataFrames\n",
    "df_main = pd.read_csv(r'C:\\Users\\ADMIN\\Desktop\\SJSU\\DB Analytics\\moviedataset\\links.csv')\n",
    "df_values = pd.read_csv(r'C:\\Users\\ADMIN\\Desktop\\SJSU\\DB Analytics\\moviedataset\\movie_metadata.csv')\n",
    "\n",
    "# Extract unique values from the column of interest in the second CSV file\n",
    "unique_values = df_values['id'].unique()\n",
    "\n",
    "\n",
    "# Filter the main DataFrame based on whether the column value is present in the unique values\n",
    "filtered_df = df_main[df_main['tmdbId'].isin(unique_values)]\n",
    "\n",
    "# Save the filtered data to a new CSV file\n",
    "filtered_df.to_csv(r'C:\\Users\\ADMIN\\Desktop\\SJSU\\DB Analytics\\moviedataset\\links_1.csv', index=False)\n"
   ]
  },
  {
   "cell_type": "markdown",
   "id": "85c7662d-e068-422f-8245-89e61266fd88",
   "metadata": {},
   "source": [
    "Deleting the record where movieId from ratings have no reference to movieId in links"
   ]
  },
  {
   "cell_type": "code",
   "execution_count": null,
   "id": "fd8f8f6d-b5ca-4100-bde8-8ed8f5ca7ba7",
   "metadata": {},
   "outputs": [],
   "source": [
    "import pandas as pd\n",
    "\n",
    "# Load both CSV files into DataFrames\n",
    "df_main = pd.read_csv(r'C:\\Users\\ADMIN\\Desktop\\SJSU\\DB Analytics\\moviedataset\\ratings1.csv')\n",
    "df_values = pd.read_csv(r'C:\\Users\\ADMIN\\Desktop\\SJSU\\DB Analytics\\moviedataset\\links_1.csv')\n",
    "\n",
    "# Extract unique values from the column of interest in the second CSV file\n",
    "unique_values = df_values['movieId'].unique()\n",
    "\n",
    "# Filter the main DataFrame based on whether the column value is present in the unique values\n",
    "filtered_df = df_main[df_main['movieId'].isin(unique_values)]\n",
    "\n",
    "\n",
    "# Save the filtered data to a new CSV file\n",
    "filtered_df.to_csv(r'C:\\Users\\ADMIN\\Desktop\\SJSU\\DB Analytics\\moviedataset\\ratings2.csv', index=False)"
   ]
  },
  {
   "cell_type": "markdown",
   "id": "283d6220-ec60-47d3-8344-015f4b0029a9",
   "metadata": {},
   "source": [
    "Data cleaning from movie_metadata"
   ]
  },
  {
   "cell_type": "code",
   "execution_count": 27,
   "id": "b92024f4-b490-4081-9cd8-ee9a35f94c77",
   "metadata": {},
   "outputs": [],
   "source": [
    "import pandas as pd\n",
    "df = pd.read_csv(r'C:\\Users\\sonia\\OneDrive\\Desktop\\SJSU\\DB Analytics\\moviedataset\\movie_metadata.csv')\n",
    "\n",
    "#removing duplicates from file\n",
    "df = df.drop_duplicates()\n",
    "\n",
    "\n",
    "#trimming tt0 values from imdb_id\n",
    "df['imdb_id'] = df['imdb_id'].str.replace('tt', '')"
   ]
  },
  {
   "cell_type": "code",
   "execution_count": 29,
   "id": "26a6f0b0-f7b4-4999-84f1-b2d8d58a9c23",
   "metadata": {},
   "outputs": [],
   "source": [
    "\n",
    "\n",
    "# Converting release date to datetime with error handling\n",
    "df['release_date'] = pd.to_datetime(df['release_date'], format='%d-%m-%Y', errors='coerce')\n",
    "\n",
    "# Remove rows with NaT (if necessary)\n",
    "df = df.dropna(subset=['release_date'])\n",
    "\n",
    "# Convert datetime format to 'YYYY-MM-DD' string format\n",
    "df['release_date'] = df['release_date'].dt.strftime('%Y-%m-%d')\n",
    "\n",
    "df.to_csv(r'C:\\Users\\ADMIN\\Desktop\\SJSU\\DB Analytics\\moviedataset\\movie_metadata1.csv', index=False)"
   ]
  },
  {
   "cell_type": "markdown",
   "id": "c3182764-fbf2-4a64-97d0-c0d6f43a7808",
   "metadata": {},
   "source": [
    "Data cleaning from person table"
   ]
  },
  {
   "cell_type": "code",
   "execution_count": 25,
   "id": "80c17388-4c07-46a5-bfc0-f7f5b031b28e",
   "metadata": {},
   "outputs": [],
   "source": [
    "import pandas as pd\n",
    "df = pd.read_csv(r'C:\\Users\\ADMIN\\Desktop\\SJSU\\DB Analytics\\moviedataset\\person.csv')\n",
    "\n",
    "#removing duplicates from file\n",
    "df = df.drop_duplicates()\n",
    "\n",
    "mapping = {0: 'Unknown', 1: 'Female', 2: 'Male'}\n",
    "\n",
    "# Convert 'gender' column to mapping values\n",
    "df['gender'] = df['gender'].replace(mapping)\n",
    "\n",
    "df.to_csv(r'C:\\Users\\ADMIN\\Desktop\\SJSU\\DB Analytics\\moviedataset\\person1.csv', index=False)"
   ]
  },
  {
   "cell_type": "markdown",
   "id": "d53a61f9-e97a-4ee6-88bb-c3727e8224a8",
   "metadata": {},
   "source": [
    "Keyword Cleaning"
   ]
  },
  {
   "cell_type": "code",
   "execution_count": 30,
   "id": "99e92b55-df7c-4059-9ac0-474a975aee07",
   "metadata": {},
   "outputs": [],
   "source": [
    "import pandas as pd\n",
    "df = pd.read_csv(r'C:\\Users\\ADMIN\\Desktop\\SJSU\\DB Analytics\\moviedataset\\keywords.csv')\n",
    "\n",
    "#removing duplicates from file\n",
    "df = df.drop_duplicates()\n",
    "\n",
    "df.to_csv(r'C:\\Users\\ADMIN\\Desktop\\SJSU\\DB Analytics\\moviedataset\\keywords1.csv', index=False)"
   ]
  },
  {
   "cell_type": "markdown",
   "id": "00e47e1a-a89b-4401-ab67-8033c8caa1df",
   "metadata": {},
   "source": [
    "Genre cleaning"
   ]
  },
  {
   "cell_type": "code",
   "execution_count": 31,
   "id": "69bfbdec-3b05-4dca-bbc5-88ff2ac33492",
   "metadata": {},
   "outputs": [],
   "source": [
    "import pandas as pd\n",
    "df = pd.read_csv(r'C:\\Users\\ADMIN\\Desktop\\SJSU\\DB Analytics\\moviedataset\\genres.csv')\n",
    "\n",
    "#removing duplicates from file\n",
    "df = df.drop_duplicates()\n",
    "\n",
    "df.to_csv(r'C:\\Users\\ADMIN\\Desktop\\SJSU\\DB Analytics\\moviedataset\\genres1.csv', index=False)"
   ]
  },
  {
   "cell_type": "markdown",
   "id": "9db23c3a-a5be-43d4-9978-31828245952e",
   "metadata": {},
   "source": [
    "Crew cleaning"
   ]
  },
  {
   "cell_type": "code",
   "execution_count": 32,
   "id": "e63afb8a-a6d2-419c-9990-0b7034b9d20e",
   "metadata": {},
   "outputs": [],
   "source": [
    "import pandas as pd\n",
    "df = pd.read_csv(r'C:\\Users\\ADMIN\\Desktop\\SJSU\\DB Analytics\\moviedataset\\crew.csv')\n",
    "\n",
    "#removing duplicates from file\n",
    "df = df.drop_duplicates()\n",
    "\n",
    "df.to_csv(r'C:\\Users\\ADMIN\\Desktop\\SJSU\\DB Analytics\\moviedataset\\crew1.csv', index=False)"
   ]
  },
  {
   "cell_type": "markdown",
   "id": "f74362a1-10c3-4e45-be51-a1d12082b072",
   "metadata": {},
   "source": [
    "Cast Cleaning"
   ]
  },
  {
   "cell_type": "code",
   "execution_count": 33,
   "id": "ebf24d60-5c20-417a-9cd6-3288d07ab206",
   "metadata": {},
   "outputs": [],
   "source": [
    "import pandas as pd\n",
    "df = pd.read_csv(r'C:\\Users\\ADMIN\\Desktop\\SJSU\\DB Analytics\\moviedataset\\cast.csv')\n",
    "\n",
    "#removing duplicates from file\n",
    "df = df.drop_duplicates()\n",
    "df.to_csv(r'C:\\Users\\ADMIN\\Desktop\\SJSU\\DB Analytics\\moviedataset\\cast1.csv', index=False)"
   ]
  },
  {
   "cell_type": "markdown",
   "id": "080caf01-1a9d-405f-bbcb-6d1c0fafa3e1",
   "metadata": {},
   "source": [
    "Belongs to collection"
   ]
  },
  {
   "cell_type": "code",
   "execution_count": 34,
   "id": "c3451cdf-a172-43c9-a647-b474f7b5f72e",
   "metadata": {},
   "outputs": [],
   "source": [
    "import pandas as pd\n",
    "df = pd.read_csv(r'C:\\Users\\ADMIN\\Desktop\\SJSU\\DB Analytics\\moviedataset\\belongs_to_collection.csv')\n",
    "\n",
    "#removing duplicates from file\n",
    "df = df.drop_duplicates()\n",
    "\n",
    "df.to_csv(r'C:\\Users\\ADMIN\\Desktop\\SJSU\\DB Analytics\\moviedataset\\belongs_to_collection1.csv', index=False)"
   ]
  },
  {
   "cell_type": "markdown",
   "id": "f98315ed-33a7-4e0b-b25c-eb0567dabc9d",
   "metadata": {},
   "source": [
    "Collection Movie Connector"
   ]
  },
  {
   "cell_type": "code",
   "execution_count": 35,
   "id": "41580259-cf02-491a-9ae8-4168eec00dde",
   "metadata": {},
   "outputs": [],
   "source": [
    "import pandas as pd\n",
    "df = pd.read_csv(r'C:\\Users\\ADMIN\\Desktop\\SJSU\\DB Analytics\\moviedataset\\collection_movie_connector.csv')\n",
    "\n",
    "#removing duplicates from file\n",
    "df = df.drop_duplicates()\n",
    "df.to_csv(r'C:\\Users\\ADMIN\\Desktop\\SJSU\\DB Analytics\\moviedataset\\collection_movie_connector1.csv', index=False)"
   ]
  },
  {
   "cell_type": "markdown",
   "id": "1c50f66a-7767-467e-9146-12fad646e3ed",
   "metadata": {},
   "source": [
    "Genres Movies Connector  "
   ]
  },
  {
   "cell_type": "code",
   "execution_count": 37,
   "id": "5ec55824-56ec-4adc-b0fe-399e6a67ecb6",
   "metadata": {},
   "outputs": [],
   "source": [
    "import pandas as pd\n",
    "df = pd.read_csv(r'C:\\Users\\ADMIN\\Desktop\\SJSU\\DB Analytics\\moviedataset\\genres_movies_connector.csv')\n",
    "\n",
    "#removing duplicates from file\n",
    "df = df.drop_duplicates()\n",
    "\n",
    "df.to_csv(r'C:\\Users\\ADMIN\\Desktop\\SJSU\\DB Analytics\\moviedataset\\genres_movies_connector1.csv', index=False)"
   ]
  },
  {
   "cell_type": "markdown",
   "id": "964e6cc3-4919-44b4-b523-543e41e530c4",
   "metadata": {},
   "source": [
    "Keywords Movie Connector"
   ]
  },
  {
   "cell_type": "code",
   "execution_count": 38,
   "id": "3a24ae82-2fa3-4815-b13f-2236f3d80c25",
   "metadata": {},
   "outputs": [],
   "source": [
    "import pandas as pd\n",
    "df = pd.read_csv(r'C:\\Users\\ADMIN\\Desktop\\SJSU\\DB Analytics\\moviedataset\\keywords_movie_connector.csv')\n",
    "\n",
    "#removing duplicates from file\n",
    "df = df.drop_duplicates()\n",
    "\n",
    "df.to_csv(r'C:\\Users\\ADMIN\\Desktop\\SJSU\\DB Analytics\\moviedataset\\keywords_movie_connector1.csv', index=False)"
   ]
  },
  {
   "cell_type": "markdown",
   "id": "72428e5c-bd8b-4475-98f2-0753cba77e7d",
   "metadata": {},
   "source": [
    "Languages Movie Connector"
   ]
  },
  {
   "cell_type": "code",
   "execution_count": 39,
   "id": "0789895c-1aa8-464d-adba-0357528c2e30",
   "metadata": {},
   "outputs": [],
   "source": [
    "import pandas as pd\n",
    "df = pd.read_csv(r'C:\\Users\\ADMIN\\Desktop\\SJSU\\DB Analytics\\moviedataset\\languages_movie_connector.csv')\n",
    "\n",
    "#removing duplicates from file\n",
    "df = df.drop_duplicates()\n",
    "\n",
    "df.to_csv(r'C:\\Users\\ADMIN\\Desktop\\SJSU\\DB Analytics\\moviedataset\\languages_movie_connector1.csv', index=False)"
   ]
  },
  {
   "cell_type": "markdown",
   "id": "70837966-5efc-4b9f-a9c8-fe9558428cd0",
   "metadata": {},
   "source": [
    "Links"
   ]
  },
  {
   "cell_type": "code",
   "execution_count": 40,
   "id": "a34dd9e8-0fef-479c-b7e3-d6c1f8b02808",
   "metadata": {},
   "outputs": [],
   "source": [
    "import pandas as pd\n",
    "df = pd.read_csv(r'C:\\Users\\ADMIN\\Desktop\\SJSU\\DB Analytics\\moviedataset\\links.csv')\n",
    "\n",
    "#removing duplicates from file\n",
    "df = df.drop_duplicates()\n",
    "df.to_csv(r'C:\\Users\\ADMIN\\Desktop\\SJSU\\DB Analytics\\moviedataset\\links1.csv', index=False)"
   ]
  },
  {
   "cell_type": "markdown",
   "id": "1ced55fc-3e20-4f17-b124-0d9ef059688c",
   "metadata": {},
   "source": [
    "Production Companies"
   ]
  },
  {
   "cell_type": "code",
   "execution_count": 41,
   "id": "64abb4f3-110e-48bd-8f93-e2e2ed4c2e21",
   "metadata": {},
   "outputs": [],
   "source": [
    "import pandas as pd\n",
    "df = pd.read_csv(r'C:\\Users\\ADMIN\\Desktop\\SJSU\\DB Analytics\\moviedataset\\production_companies.csv')\n",
    "\n",
    "#removing duplicates from file\n",
    "df = df.drop_duplicates()\n",
    "\n",
    "df.to_csv(r'C:\\Users\\ADMIN\\Desktop\\SJSU\\DB Analytics\\moviedataset\\production_companies1.csv', index=False)"
   ]
  },
  {
   "cell_type": "markdown",
   "id": "05bebb35-6de1-4a83-beea-503f3af3a1c1",
   "metadata": {},
   "source": [
    "Production Companies Movie Connector"
   ]
  },
  {
   "cell_type": "code",
   "execution_count": 42,
   "id": "5448e0ef-5a02-4a07-8311-694c46049ff4",
   "metadata": {},
   "outputs": [],
   "source": [
    "import pandas as pd\n",
    "df = pd.read_csv(r'C:\\Users\\ADMIN\\Desktop\\SJSU\\DB Analytics\\moviedataset\\production_companies_movie_connector.csv')\n",
    "\n",
    "#removing duplicates from file\n",
    "df = df.drop_duplicates()\n",
    "\n",
    "df.to_csv(r'C:\\Users\\ADMIN\\Desktop\\SJSU\\DB Analytics\\moviedataset\\production_companies_movie_connector1.csv', index=False)"
   ]
  },
  {
   "cell_type": "markdown",
   "id": "72568305-cd89-4db8-aad4-fe19fdc758e5",
   "metadata": {},
   "source": [
    "Production Countries"
   ]
  },
  {
   "cell_type": "code",
   "execution_count": 43,
   "id": "535570c6-da7b-49ef-b7ad-f24aed6d7bfd",
   "metadata": {},
   "outputs": [],
   "source": [
    "import pandas as pd\n",
    "df = pd.read_csv(r'C:\\Users\\ADMIN\\Desktop\\SJSU\\DB Analytics\\moviedataset\\production_countries.csv')\n",
    "\n",
    "#removing duplicates from file\n",
    "df = df.drop_duplicates()\n",
    "df.to_csv(r'C:\\Users\\ADMIN\\Desktop\\SJSU\\DB Analytics\\moviedataset\\production_countries1.csv', index=False)"
   ]
  },
  {
   "cell_type": "markdown",
   "id": "fca62630-19d6-401e-915b-9a3e66241937",
   "metadata": {},
   "source": [
    "Production Countries Movie Connector"
   ]
  },
  {
   "cell_type": "code",
   "execution_count": 44,
   "id": "6cb4473e-66d3-4a42-8ffb-858d43b4be14",
   "metadata": {},
   "outputs": [],
   "source": [
    "import pandas as pd\n",
    "df = pd.read_csv(r'C:\\Users\\ADMIN\\Desktop\\SJSU\\DB Analytics\\moviedataset\\production_countries_movie_connector.csv')\n",
    "\n",
    "#removing duplicates from file\n",
    "df = df.drop_duplicates()\n",
    "df.to_csv(r'C:\\Users\\ADMIN\\Desktop\\SJSU\\DB Analytics\\moviedataset\\production_countries_movie_connector1.csv', index=False)"
   ]
  },
  {
   "cell_type": "markdown",
   "id": "77605786-3adb-4342-b459-834dbb9c389b",
   "metadata": {},
   "source": [
    "Spoken Languages"
   ]
  },
  {
   "cell_type": "code",
   "execution_count": 45,
   "id": "b922d495-656d-4c31-ab21-20a0bbf031b6",
   "metadata": {},
   "outputs": [],
   "source": [
    "import pandas as pd\n",
    "df = pd.read_csv(r'C:\\Users\\ADMIN\\OneDrive\\Desktop\\SJSU\\DB Analytics\\moviedataset\\spoken_languages.csv')\n",
    "\n",
    "#removing duplicates from file\n",
    "df = df.drop_duplicates()\n",
    "df.to_csv(r'C:\\Users\\ADMIN\\Desktop\\SJSU\\DB Analytics\\moviedataset\\spoken_languages1.csv', index=False)"
   ]
  },
  {
   "cell_type": "markdown",
   "id": "2cfb7e43-bf72-42c1-a913-d4d8d8d871eb",
   "metadata": {},
   "source": [
    "Ratings"
   ]
  },
  {
   "cell_type": "code",
   "execution_count": 46,
   "id": "1429b79f-cc76-470d-96da-0c9f8920c007",
   "metadata": {},
   "outputs": [],
   "source": [
    "import pandas as pd\n",
    "df = pd.read_csv(r'C:\\Users\\ADMIN\\Desktop\\SJSU\\DB Analytics\\moviedataset\\ratings.csv')\n",
    "\n",
    "#removing duplicates from file\n",
    "df = df.drop_duplicates()\n",
    "df.to_csv(r'C:\\Users\\ADMIN\\Desktop\\SJSU\\DB Analytics\\moviedataset\\ratings1.csv', index=False)"
   ]
  },
  {
   "cell_type": "code",
   "execution_count": null,
   "id": "ef5cefb9-b660-4f28-8d9a-8fb495a369ff",
   "metadata": {},
   "outputs": [],
   "source": []
  }
 ],
 "metadata": {
  "kernelspec": {
   "display_name": "Python 3 (ipykernel)",
   "language": "python",
   "name": "python3"
  },
  "language_info": {
   "codemirror_mode": {
    "name": "ipython",
    "version": 3
   },
   "file_extension": ".py",
   "mimetype": "text/x-python",
   "name": "python",
   "nbconvert_exporter": "python",
   "pygments_lexer": "ipython3",
   "version": "3.11.5"
  }
 },
 "nbformat": 4,
 "nbformat_minor": 5
}
